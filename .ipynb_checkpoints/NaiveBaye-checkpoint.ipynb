{
 "cells": [
  {
   "cell_type": "code",
   "execution_count": null,
   "id": "3ff6ad42-8a8b-4b8a-ba16-74dde7f1788c",
   "metadata": {},
   "outputs": [],
   "source": []
  }
 ],
 "metadata": {
  "kernelspec": {
   "display_name": "Python 3 (ipykernel)",
   "language": "python",
   "name": "python3"
  },
  "language_info": {
   "name": ""
  }
 },
 "nbformat": 4,
 "nbformat_minor": 5
}
